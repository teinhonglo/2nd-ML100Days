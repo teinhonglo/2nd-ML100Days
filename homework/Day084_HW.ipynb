{
 "cells": [
  {
   "cell_type": "markdown",
   "metadata": {},
   "source": [
    "## Work\n",
    "### 請結合前面的知識與程式碼，比較不同的 regularization 的組合對訓練的結果與影響：如 dropout, regularizers, batch-normalization 等"
   ]
  },
  {
   "cell_type": "code",
   "execution_count": 1,
   "metadata": {},
   "outputs": [
    {
     "name": "stderr",
     "output_type": "stream",
     "text": [
      "Using TensorFlow backend.\n"
     ]
    }
   ],
   "source": [
    "import os\n",
    "import keras\n",
    "import itertools\n",
    "# Disable GPU\n",
    "os.environ[\"CUDA_VISIBLE_DEVICES\"] = \"0\""
   ]
  },
  {
   "cell_type": "code",
   "execution_count": 2,
   "metadata": {},
   "outputs": [],
   "source": [
    "train, test = keras.datasets.cifar10.load_data()"
   ]
  },
  {
   "cell_type": "code",
   "execution_count": 3,
   "metadata": {},
   "outputs": [],
   "source": [
    "## 資料前處理\n",
    "def preproc_x(x, flatten=True):\n",
    "    x = x / 255.\n",
    "    if flatten:\n",
    "        x = x.reshape((len(x), -1))\n",
    "    return x\n",
    "\n",
    "def preproc_y(y, num_classes=10):\n",
    "    if y.shape[-1] == 1:\n",
    "        y = keras.utils.to_categorical(y, num_classes)\n",
    "    return y    "
   ]
  },
  {
   "cell_type": "code",
   "execution_count": 4,
   "metadata": {},
   "outputs": [],
   "source": [
    "x_train, y_train = train\n",
    "x_test, y_test = test\n",
    "\n",
    "# Preproc the inputs\n",
    "x_train = preproc_x(x_train)\n",
    "x_test = preproc_x(x_test)\n",
    "\n",
    "# Preprc the outputs\n",
    "y_train = preproc_y(y_train)\n",
    "y_test = preproc_y(y_test)"
   ]
  },
  {
   "cell_type": "code",
   "execution_count": 5,
   "metadata": {},
   "outputs": [],
   "source": [
    "# Hint 1 : 在 Dense 層中增加 Regularizers\n",
    "# Hint 2 : 增加 Dropout 層並設定 dropout ratio \n",
    "# Hint 3 : 增加 Batch-normalization 層\n",
    "from keras.regularizers import l1_l2\n",
    "\n",
    "def build_mlp(input_shape, output_units=10, num_neurons=[512, 256, 128], l1_alpha=0.01, l2_alpha=0.01, drp_ratio=0.2):\n",
    "    input_layer = keras.layers.Input(input_shape)\n",
    "    x = keras.layers.BatchNormalization()(input_layer)\n",
    "    \n",
    "    for i, n_units in enumerate(num_neurons):\n",
    "        if i == 0:\n",
    "            x = keras.layers.Dense(units=n_units, \n",
    "                                   activation=\"relu\",\n",
    "                                   kernel_regularizer=l1_l2(l1=l1_alpha, l2=l2_alpha))(x)\n",
    "        else:\n",
    "            x = keras.layers.Dense(units=n_units, \n",
    "                                   activation=\"relu\",\n",
    "                                   kernel_regularizer=l1_l2(l1=l1_alpha, l2=l2_alpha))(x)\n",
    "        x = keras.layers.Dropout(drp_ratio)(x)\n",
    "        x = keras.layers.BatchNormalization()(x)\n",
    "    \n",
    "    out = keras.layers.Dense(units=output_units, activation=\"softmax\", name=\"output\")(x)\n",
    "    \n",
    "    model = keras.models.Model(inputs=[input_layer], outputs=[out])\n",
    "    return model"
   ]
  },
  {
   "cell_type": "code",
   "execution_count": 6,
   "metadata": {},
   "outputs": [],
   "source": [
    "## 超參數設定\n",
    "LEARNING_RATE = 1e-3\n",
    "EPOCHS = 50\n",
    "BATCH_SIZE = [512]\n",
    "MOMENTUM = 0.95"
   ]
  },
  {
   "cell_type": "code",
   "execution_count": 7,
   "metadata": {
    "scrolled": true
   },
   "outputs": [
    {
     "name": "stdout",
     "output_type": "stream",
     "text": [
      "WARNING:tensorflow:From /usr/local/lib/python2.7/dist-packages/tensorflow/python/framework/op_def_library.py:263: colocate_with (from tensorflow.python.framework.ops) is deprecated and will be removed in a future version.\n",
      "Instructions for updating:\n",
      "Colocations handled automatically by placer.\n",
      "WARNING:tensorflow:From /usr/local/lib/python2.7/dist-packages/keras/backend/tensorflow_backend.py:3445: calling dropout (from tensorflow.python.ops.nn_ops) with keep_prob is deprecated and will be removed in a future version.\n",
      "Instructions for updating:\n",
      "Please use `rate` instead of `keep_prob`. Rate should be set to `rate = 1 - keep_prob`.\n",
      "_________________________________________________________________\n",
      "Layer (type)                 Output Shape              Param #   \n",
      "=================================================================\n",
      "input_1 (InputLayer)         (None, 3072)              0         \n",
      "_________________________________________________________________\n",
      "batch_normalization_1 (Batch (None, 3072)              12288     \n",
      "_________________________________________________________________\n",
      "dense_1 (Dense)              (None, 512)               1573376   \n",
      "_________________________________________________________________\n",
      "dropout_1 (Dropout)          (None, 512)               0         \n",
      "_________________________________________________________________\n",
      "batch_normalization_2 (Batch (None, 512)               2048      \n",
      "_________________________________________________________________\n",
      "dense_2 (Dense)              (None, 256)               131328    \n",
      "_________________________________________________________________\n",
      "dropout_2 (Dropout)          (None, 256)               0         \n",
      "_________________________________________________________________\n",
      "batch_normalization_3 (Batch (None, 256)               1024      \n",
      "_________________________________________________________________\n",
      "dense_3 (Dense)              (None, 128)               32896     \n",
      "_________________________________________________________________\n",
      "dropout_3 (Dropout)          (None, 128)               0         \n",
      "_________________________________________________________________\n",
      "batch_normalization_4 (Batch (None, 128)               512       \n",
      "_________________________________________________________________\n",
      "output (Dense)               (None, 10)                1290      \n",
      "=================================================================\n",
      "Total params: 1,754,762\n",
      "Trainable params: 1,746,826\n",
      "Non-trainable params: 7,936\n",
      "_________________________________________________________________\n",
      "WARNING:tensorflow:From /usr/local/lib/python2.7/dist-packages/tensorflow/python/ops/math_ops.py:3066: to_int32 (from tensorflow.python.ops.math_ops) is deprecated and will be removed in a future version.\n",
      "Instructions for updating:\n",
      "Use tf.cast instead.\n",
      "Train on 50000 samples, validate on 10000 samples\n",
      "Epoch 1/50\n",
      "50000/50000 [==============================] - 8s 159us/step - loss: 18.5772 - acc: 0.3152 - val_loss: 7.6142 - val_acc: 0.3137\n",
      "Epoch 2/50\n",
      "50000/50000 [==============================] - 6s 129us/step - loss: 5.9585 - acc: 0.3399 - val_loss: 4.9408 - val_acc: 0.3105\n",
      "Epoch 3/50\n",
      "50000/50000 [==============================] - 6s 119us/step - loss: 4.1981 - acc: 0.3618 - val_loss: 4.0155 - val_acc: 0.2932\n",
      "Epoch 4/50\n",
      "50000/50000 [==============================] - 6s 118us/step - loss: 3.5707 - acc: 0.3741 - val_loss: 3.6347 - val_acc: 0.3550\n",
      "Epoch 5/50\n",
      "50000/50000 [==============================] - 6s 116us/step - loss: 3.3491 - acc: 0.3824 - val_loss: 3.3784 - val_acc: 0.3928\n",
      "Epoch 6/50\n",
      "50000/50000 [==============================] - 6s 117us/step - loss: 3.2500 - acc: 0.3892 - val_loss: 3.3032 - val_acc: 0.3810\n",
      "Epoch 7/50\n",
      "50000/50000 [==============================] - 6s 112us/step - loss: 3.1959 - acc: 0.3911 - val_loss: 3.1236 - val_acc: 0.4071\n",
      "Epoch 8/50\n",
      "50000/50000 [==============================] - 6s 121us/step - loss: 3.1326 - acc: 0.3966 - val_loss: 3.0968 - val_acc: 0.4249\n",
      "Epoch 9/50\n",
      "50000/50000 [==============================] - 6s 113us/step - loss: 3.1044 - acc: 0.3993 - val_loss: 3.0183 - val_acc: 0.4157\n",
      "Epoch 10/50\n",
      "50000/50000 [==============================] - 6s 119us/step - loss: 3.0550 - acc: 0.3996 - val_loss: 2.9621 - val_acc: 0.4323\n",
      "Epoch 11/50\n",
      "50000/50000 [==============================] - 6s 112us/step - loss: 3.0460 - acc: 0.4047 - val_loss: 3.0243 - val_acc: 0.4062\n",
      "Epoch 12/50\n",
      "50000/50000 [==============================] - 6s 113us/step - loss: 3.0260 - acc: 0.4060 - val_loss: 2.9589 - val_acc: 0.4372\n",
      "Epoch 13/50\n",
      "50000/50000 [==============================] - 6s 112us/step - loss: 3.0073 - acc: 0.4091 - val_loss: 2.9251 - val_acc: 0.4208\n",
      "Epoch 14/50\n",
      "50000/50000 [==============================] - 6s 118us/step - loss: 2.9682 - acc: 0.4111 - val_loss: 2.9459 - val_acc: 0.4099\n",
      "Epoch 15/50\n",
      "50000/50000 [==============================] - 6s 113us/step - loss: 2.9662 - acc: 0.4092 - val_loss: 2.9182 - val_acc: 0.4299\n",
      "Epoch 16/50\n",
      "50000/50000 [==============================] - 6s 113us/step - loss: 2.9260 - acc: 0.4101 - val_loss: 2.8320 - val_acc: 0.4441\n",
      "Epoch 17/50\n",
      "50000/50000 [==============================] - 6s 115us/step - loss: 2.9048 - acc: 0.4154 - val_loss: 2.8892 - val_acc: 0.4439\n",
      "Epoch 18/50\n",
      "50000/50000 [==============================] - 6s 112us/step - loss: 2.9099 - acc: 0.4132 - val_loss: 2.8590 - val_acc: 0.4296\n",
      "Epoch 19/50\n",
      "50000/50000 [==============================] - 6s 117us/step - loss: 2.8730 - acc: 0.4168 - val_loss: 2.8058 - val_acc: 0.4520\n",
      "Epoch 20/50\n",
      "50000/50000 [==============================] - 6s 113us/step - loss: 2.8646 - acc: 0.4180 - val_loss: 2.7543 - val_acc: 0.4416\n",
      "Epoch 21/50\n",
      "50000/50000 [==============================] - 6s 111us/step - loss: 2.8277 - acc: 0.4186 - val_loss: 2.7854 - val_acc: 0.4448\n",
      "Epoch 22/50\n",
      "50000/50000 [==============================] - 6s 112us/step - loss: 2.8403 - acc: 0.4208 - val_loss: 2.7526 - val_acc: 0.4434\n",
      "Epoch 23/50\n",
      "50000/50000 [==============================] - 6s 120us/step - loss: 2.8005 - acc: 0.4180 - val_loss: 2.7314 - val_acc: 0.4381\n",
      "Epoch 24/50\n",
      "50000/50000 [==============================] - 6s 112us/step - loss: 2.7720 - acc: 0.4234 - val_loss: 2.7196 - val_acc: 0.4443\n",
      "Epoch 25/50\n",
      "50000/50000 [==============================] - 6s 113us/step - loss: 2.7280 - acc: 0.4273 - val_loss: 2.6381 - val_acc: 0.4459\n",
      "Epoch 26/50\n",
      "50000/50000 [==============================] - 6s 111us/step - loss: 2.6779 - acc: 0.4263 - val_loss: 2.5871 - val_acc: 0.4503\n",
      "Epoch 27/50\n",
      "50000/50000 [==============================] - 6s 111us/step - loss: 2.6375 - acc: 0.4301 - val_loss: 2.5495 - val_acc: 0.4476\n",
      "Epoch 28/50\n",
      "50000/50000 [==============================] - 6s 113us/step - loss: 2.6073 - acc: 0.4299 - val_loss: 2.5688 - val_acc: 0.4351\n",
      "Epoch 29/50\n",
      "50000/50000 [==============================] - 6s 112us/step - loss: 2.5676 - acc: 0.4312 - val_loss: 2.4839 - val_acc: 0.4570\n",
      "Epoch 30/50\n",
      "50000/50000 [==============================] - 6s 112us/step - loss: 2.5181 - acc: 0.4316 - val_loss: 2.4361 - val_acc: 0.4604\n",
      "Epoch 31/50\n",
      "50000/50000 [==============================] - 6s 114us/step - loss: 2.4889 - acc: 0.4362 - val_loss: 2.4362 - val_acc: 0.4596\n",
      "Epoch 32/50\n",
      "50000/50000 [==============================] - 6s 112us/step - loss: 2.4643 - acc: 0.4343 - val_loss: 2.3882 - val_acc: 0.4505\n",
      "Epoch 33/50\n",
      "50000/50000 [==============================] - 6s 113us/step - loss: 2.4225 - acc: 0.4354 - val_loss: 2.3452 - val_acc: 0.4626\n",
      "Epoch 34/50\n",
      "50000/50000 [==============================] - 6s 111us/step - loss: 2.3945 - acc: 0.4373 - val_loss: 2.3090 - val_acc: 0.4632\n",
      "Epoch 35/50\n",
      "50000/50000 [==============================] - 6s 111us/step - loss: 2.3672 - acc: 0.4397 - val_loss: 2.3113 - val_acc: 0.4515\n",
      "Epoch 36/50\n",
      "50000/50000 [==============================] - 6s 113us/step - loss: 2.3338 - acc: 0.4386 - val_loss: 2.2519 - val_acc: 0.4594\n",
      "Epoch 37/50\n",
      "50000/50000 [==============================] - 6s 112us/step - loss: 2.3020 - acc: 0.4413 - val_loss: 2.2478 - val_acc: 0.4606\n",
      "Epoch 38/50\n",
      "50000/50000 [==============================] - 6s 112us/step - loss: 2.2620 - acc: 0.4416 - val_loss: 2.1905 - val_acc: 0.4652\n",
      "Epoch 39/50\n"
     ]
    },
    {
     "name": "stdout",
     "output_type": "stream",
     "text": [
      "50000/50000 [==============================] - 6s 112us/step - loss: 2.2466 - acc: 0.4436 - val_loss: 2.1702 - val_acc: 0.4686\n",
      "Epoch 40/50\n",
      "50000/50000 [==============================] - 6s 113us/step - loss: 2.2221 - acc: 0.4421 - val_loss: 2.1542 - val_acc: 0.4621\n",
      "Epoch 41/50\n",
      "50000/50000 [==============================] - 6s 114us/step - loss: 2.2057 - acc: 0.4433 - val_loss: 2.1410 - val_acc: 0.4683\n",
      "Epoch 42/50\n",
      "50000/50000 [==============================] - 6s 113us/step - loss: 2.1685 - acc: 0.4490 - val_loss: 2.0946 - val_acc: 0.4652\n",
      "Epoch 43/50\n",
      "50000/50000 [==============================] - 6s 111us/step - loss: 2.1592 - acc: 0.4460 - val_loss: 2.0765 - val_acc: 0.4803\n",
      "Epoch 44/50\n",
      "50000/50000 [==============================] - 6s 111us/step - loss: 2.1512 - acc: 0.4436 - val_loss: 2.0634 - val_acc: 0.4795\n",
      "Epoch 45/50\n",
      "50000/50000 [==============================] - 6s 112us/step - loss: 2.1352 - acc: 0.4468 - val_loss: 2.0592 - val_acc: 0.4775\n",
      "Epoch 46/50\n",
      "50000/50000 [==============================] - 6s 112us/step - loss: 2.1206 - acc: 0.4506 - val_loss: 2.0651 - val_acc: 0.4673\n",
      "Epoch 47/50\n",
      "50000/50000 [==============================] - 6s 112us/step - loss: 2.1158 - acc: 0.4494 - val_loss: 2.0471 - val_acc: 0.4781\n",
      "Epoch 48/50\n",
      "50000/50000 [==============================] - 6s 112us/step - loss: 2.1059 - acc: 0.4517 - val_loss: 2.0374 - val_acc: 0.4681\n",
      "Epoch 49/50\n",
      "50000/50000 [==============================] - 6s 114us/step - loss: 2.0924 - acc: 0.4509 - val_loss: 2.0159 - val_acc: 0.4833\n",
      "Epoch 50/50\n",
      "50000/50000 [==============================] - 6s 114us/step - loss: 2.0943 - acc: 0.4486 - val_loss: 2.0305 - val_acc: 0.4785\n"
     ]
    }
   ],
   "source": [
    "results = {}\n",
    "for batch_size in BATCH_SIZE:\n",
    "    model = build_mlp(input_shape=x_train.shape[1:], output_units=10,\n",
    "                      num_neurons=[512, 256, 128],\n",
    "                      l1_alpha=0.001, l2_alpha=0.001, drp_ratio=0.2)\n",
    "    model.summary()\n",
    "    model.compile(optimizer='adam',\n",
    "                  loss=\"categorical_crossentropy\",\n",
    "                  metrics=[\"accuracy\"])\n",
    "\n",
    "    model.fit(x_train, y_train, \n",
    "              epochs=EPOCHS, \n",
    "              batch_size=batch_size, \n",
    "              validation_data=(x_test, y_test), \n",
    "              shuffle=True)\n",
    "    \n",
    "    # Collect results\n",
    "    train_loss = model.history.history[\"loss\"]\n",
    "    valid_loss = model.history.history[\"val_loss\"]\n",
    "    train_acc = model.history.history[\"acc\"]\n",
    "    valid_acc = model.history.history[\"val_acc\"]\n",
    "    \n",
    "    exp_name_tag = \"batch_size_\"+ str(batch_size)\n",
    "    results[exp_name_tag] = {'train-loss': train_loss,\n",
    "                             'valid-loss': valid_loss,\n",
    "                             'train-acc': train_acc,\n",
    "                             'valid-acc': valid_acc}"
   ]
  },
  {
   "cell_type": "code",
   "execution_count": 10,
   "metadata": {},
   "outputs": [
    {
     "data": {
      "image/png": "[encoded data removed]",
      "text/plain": [
       "<Figure size 576x432 with 1 Axes>"
      ]
     },
     "metadata": {
      "needs_background": "light"
     },
     "output_type": "display_data"
    },
    {
     "data": {
      "image/png": "[encoded data removed]",
      "text/plain": [
       "<Figure size 576x432 with 1 Axes>"
      ]
     },
     "metadata": {
      "needs_background": "light"
     },
     "output_type": "display_data"
    }
   ],
   "source": [
    "import matplotlib.pyplot as plt\n",
    "%matplotlib inline\n",
    "color_bar = [\"r\", \"g\", \"b\", \"y\", \"m\", \"k\"]\n",
    "\n",
    "plt.figure(figsize=(8,6))\n",
    "for i, cond in enumerate(results.keys()):\n",
    "    plt.plot(range(len(results[cond]['train-loss'])),results[cond]['train-loss'], '-', label=cond, color=color_bar[i])\n",
    "    plt.plot(range(len(results[cond]['valid-loss'])),results[cond]['valid-loss'], '--', label=cond, color=color_bar[i])\n",
    "plt.title(\"Loss\")\n",
    "plt.ylim([0, 5])\n",
    "plt.legend()\n",
    "plt.show()\n",
    "\n",
    "plt.figure(figsize=(8,6))\n",
    "for i, cond in enumerate(results.keys()):\n",
    "    plt.plot(range(len(results[cond]['train-acc'])),results[cond]['train-acc'], '-', label=cond, color=color_bar[i])\n",
    "    plt.plot(range(len(results[cond]['valid-acc'])),results[cond]['valid-acc'], '--', label=cond, color=color_bar[i])\n",
    "plt.title(\"Accuracy\")\n",
    "plt.legend()\n",
    "plt.show()"
   ]
  },
  {
   "cell_type": "code",
   "execution_count": null,
   "metadata": {},
   "outputs": [],
   "source": []
  }
 ],
 "metadata": {
  "kernelspec": {
   "display_name": "Python 2",
   "language": "python",
   "name": "python2"
  },
  "language_info": {
   "codemirror_mode": {
    "name": "ipython",
    "version": 2
   },
   "file_extension": ".py",
   "mimetype": "text/x-python",
   "name": "python",
   "nbconvert_exporter": "python",
   "pygments_lexer": "ipython2",
   "version": "2.7.12"
  }
 },
 "nbformat": 4,
 "nbformat_minor": 2
}
