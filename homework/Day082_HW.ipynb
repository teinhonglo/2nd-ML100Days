{
 "cells": [
  {
   "cell_type": "markdown",
   "metadata": {},
   "source": [
    "## Work\n",
    "1. 請比較使用不同層數以及不同 Dropout rate 對訓練的效果\n",
    "2. 將 optimizer 改成使用 Adam 並加上適當的 dropout rate 檢視結果"
   ]
  },
  {
   "cell_type": "code",
   "execution_count": 1,
   "metadata": {},
   "outputs": [
    {
     "name": "stderr",
     "output_type": "stream",
     "text": [
      "Using TensorFlow backend.\n"
     ]
    }
   ],
   "source": [
    "import os\n",
    "import keras\n",
    "import itertools\n",
    "# Disable GPU\n",
    "os.environ[\"CUDA_VISIBLE_DEVICES\"] = \"0\""
   ]
  },
  {
   "cell_type": "code",
   "execution_count": 2,
   "metadata": {},
   "outputs": [],
   "source": [
    "train, test = keras.datasets.cifar10.load_data()"
   ]
  },
  {
   "cell_type": "code",
   "execution_count": 3,
   "metadata": {},
   "outputs": [],
   "source": [
    "## 資料前處理\n",
    "def preproc_x(x, flatten=True):\n",
    "    x = x / 255.\n",
    "    if flatten:\n",
    "        x = x.reshape((len(x), -1))\n",
    "    return x\n",
    "\n",
    "def preproc_y(y, num_classes=10):\n",
    "    if y.shape[-1] == 1:\n",
    "        y = keras.utils.to_categorical(y, num_classes)\n",
    "    return y    "
   ]
  },
  {
   "cell_type": "code",
   "execution_count": 4,
   "metadata": {},
   "outputs": [],
   "source": [
    "x_train, y_train = train\n",
    "x_test, y_test = test\n",
    "\n",
    "# Preproc the inputs\n",
    "x_train = preproc_x(x_train)\n",
    "x_test = preproc_x(x_test)\n",
    "\n",
    "# Preprc the outputs\n",
    "y_train = preproc_y(y_train)\n",
    "y_test = preproc_y(y_test)"
   ]
  },
  {
   "cell_type": "code",
   "execution_count": 5,
   "metadata": {},
   "outputs": [],
   "source": [
    "from keras.layers import Dropout\n",
    "\n",
    "def build_mlp(input_shape, output_units=10, num_neurons=[512, 256, 128], drp_ratio=0.2):\n",
    "    input_layer = keras.layers.Input(input_shape)\n",
    "    \n",
    "    for i, n_units in enumerate(num_neurons):\n",
    "        if i == 0:\n",
    "            x = keras.layers.Dense(units=n_units, \n",
    "                                   activation=\"relu\", \n",
    "                                   name=\"hidden_layer\"+str(i+1))(input_layer)\n",
    "            x = Dropout(drp_ratio)(x)\n",
    "        else:\n",
    "            x = keras.layers.Dense(units=n_units, \n",
    "                                   activation=\"relu\", \n",
    "                                   name=\"hidden_layer\"+str(i+1))(x)\n",
    "            x = Dropout(drp_ratio)(x)\n",
    "    \n",
    "    out = keras.layers.Dense(units=output_units, activation=\"softmax\", name=\"output\")(x)\n",
    "    \n",
    "    model = keras.models.Model(inputs=[input_layer], outputs=[out])\n",
    "    return model"
   ]
  },
  {
   "cell_type": "code",
   "execution_count": 6,
   "metadata": {},
   "outputs": [],
   "source": [
    "## 超參數設定\n",
    "LEARNING_RATE = 1e-3\n",
    "EPOCHS = 50\n",
    "BATCH_SIZE = 256\n",
    "MOMENTUM = 0.95\n",
    "Dropout_EXP = 0.25"
   ]
  },
  {
   "cell_type": "code",
   "execution_count": 7,
   "metadata": {
    "scrolled": true
   },
   "outputs": [
    {
     "name": "stdout",
     "output_type": "stream",
     "text": [
      "WARNING:tensorflow:From /usr/local/lib/python2.7/dist-packages/tensorflow/python/framework/op_def_library.py:263: colocate_with (from tensorflow.python.framework.ops) is deprecated and will be removed in a future version.\n",
      "Instructions for updating:\n",
      "Colocations handled automatically by placer.\n",
      "WARNING:tensorflow:From /usr/local/lib/python2.7/dist-packages/keras/backend/tensorflow_backend.py:3445: calling dropout (from tensorflow.python.ops.nn_ops) with keep_prob is deprecated and will be removed in a future version.\n",
      "Instructions for updating:\n",
      "Please use `rate` instead of `keep_prob`. Rate should be set to `rate = 1 - keep_prob`.\n",
      "_________________________________________________________________\n",
      "Layer (type)                 Output Shape              Param #   \n",
      "=================================================================\n",
      "input_1 (InputLayer)         (None, 3072)              0         \n",
      "_________________________________________________________________\n",
      "hidden_layer1 (Dense)        (None, 512)               1573376   \n",
      "_________________________________________________________________\n",
      "dropout_1 (Dropout)          (None, 512)               0         \n",
      "_________________________________________________________________\n",
      "hidden_layer2 (Dense)        (None, 256)               131328    \n",
      "_________________________________________________________________\n",
      "dropout_2 (Dropout)          (None, 256)               0         \n",
      "_________________________________________________________________\n",
      "hidden_layer3 (Dense)        (None, 128)               32896     \n",
      "_________________________________________________________________\n",
      "dropout_3 (Dropout)          (None, 128)               0         \n",
      "_________________________________________________________________\n",
      "output (Dense)               (None, 10)                1290      \n",
      "=================================================================\n",
      "Total params: 1,738,890\n",
      "Trainable params: 1,738,890\n",
      "Non-trainable params: 0\n",
      "_________________________________________________________________\n",
      "WARNING:tensorflow:From /usr/local/lib/python2.7/dist-packages/tensorflow/python/ops/math_ops.py:3066: to_int32 (from tensorflow.python.ops.math_ops) is deprecated and will be removed in a future version.\n",
      "Instructions for updating:\n",
      "Use tf.cast instead.\n",
      "Train on 50000 samples, validate on 10000 samples\n",
      "Epoch 1/50\n",
      "50000/50000 [==============================] - 7s 142us/step - loss: 2.0531 - acc: 0.2411 - val_loss: 1.8380 - val_acc: 0.3351\n",
      "Epoch 2/50\n",
      "50000/50000 [==============================] - 6s 127us/step - loss: 1.8781 - acc: 0.3175 - val_loss: 1.7633 - val_acc: 0.3801\n",
      "Epoch 3/50\n",
      "50000/50000 [==============================] - 7s 132us/step - loss: 1.8199 - acc: 0.3426 - val_loss: 1.7266 - val_acc: 0.3873\n",
      "Epoch 4/50\n",
      "50000/50000 [==============================] - 6s 128us/step - loss: 1.7834 - acc: 0.3534 - val_loss: 1.6754 - val_acc: 0.4101\n",
      "Epoch 5/50\n",
      "50000/50000 [==============================] - 6s 123us/step - loss: 1.7666 - acc: 0.3640 - val_loss: 1.6327 - val_acc: 0.4220\n",
      "Epoch 6/50\n",
      "50000/50000 [==============================] - 6s 118us/step - loss: 1.7390 - acc: 0.3720 - val_loss: 1.6384 - val_acc: 0.4190\n",
      "Epoch 7/50\n",
      "50000/50000 [==============================] - 6s 122us/step - loss: 1.7165 - acc: 0.3827 - val_loss: 1.6196 - val_acc: 0.4244\n",
      "Epoch 8/50\n",
      "50000/50000 [==============================] - 6s 113us/step - loss: 1.6972 - acc: 0.3884 - val_loss: 1.5872 - val_acc: 0.4427\n",
      "Epoch 9/50\n",
      "50000/50000 [==============================] - 6s 118us/step - loss: 1.6956 - acc: 0.3908 - val_loss: 1.5822 - val_acc: 0.4407\n",
      "Epoch 10/50\n",
      "50000/50000 [==============================] - 6s 122us/step - loss: 1.6726 - acc: 0.3972 - val_loss: 1.5766 - val_acc: 0.4521\n",
      "Epoch 11/50\n",
      "50000/50000 [==============================] - 6s 121us/step - loss: 1.6599 - acc: 0.3993 - val_loss: 1.5750 - val_acc: 0.4479\n",
      "Epoch 12/50\n",
      "50000/50000 [==============================] - 6s 110us/step - loss: 1.6577 - acc: 0.4012 - val_loss: 1.5751 - val_acc: 0.4440\n",
      "Epoch 13/50\n",
      "50000/50000 [==============================] - 6s 112us/step - loss: 1.6531 - acc: 0.4055 - val_loss: 1.5700 - val_acc: 0.4460\n",
      "Epoch 14/50\n",
      "50000/50000 [==============================] - 6s 120us/step - loss: 1.6368 - acc: 0.4116 - val_loss: 1.5598 - val_acc: 0.4524\n",
      "Epoch 15/50\n",
      "50000/50000 [==============================] - 6s 116us/step - loss: 1.6325 - acc: 0.4139 - val_loss: 1.5694 - val_acc: 0.4487\n",
      "Epoch 16/50\n",
      "50000/50000 [==============================] - 6s 111us/step - loss: 1.6247 - acc: 0.4160 - val_loss: 1.5602 - val_acc: 0.4497\n",
      "Epoch 17/50\n",
      "50000/50000 [==============================] - 6s 124us/step - loss: 1.6189 - acc: 0.4218 - val_loss: 1.5819 - val_acc: 0.4455\n",
      "Epoch 18/50\n",
      "50000/50000 [==============================] - 6s 112us/step - loss: 1.6195 - acc: 0.4171 - val_loss: 1.5373 - val_acc: 0.4594\n",
      "Epoch 19/50\n",
      "50000/50000 [==============================] - 6s 112us/step - loss: 1.6051 - acc: 0.4232 - val_loss: 1.5229 - val_acc: 0.4645\n",
      "Epoch 20/50\n",
      "50000/50000 [==============================] - 6s 120us/step - loss: 1.5895 - acc: 0.4274 - val_loss: 1.5384 - val_acc: 0.4639\n",
      "Epoch 21/50\n",
      "50000/50000 [==============================] - 6s 116us/step - loss: 1.5969 - acc: 0.4259 - val_loss: 1.5294 - val_acc: 0.4620\n",
      "Epoch 22/50\n",
      "50000/50000 [==============================] - 6s 113us/step - loss: 1.5845 - acc: 0.4310 - val_loss: 1.5246 - val_acc: 0.4644\n",
      "Epoch 23/50\n",
      "50000/50000 [==============================] - 6s 116us/step - loss: 1.5831 - acc: 0.4306 - val_loss: 1.4952 - val_acc: 0.4656\n",
      "Epoch 24/50\n",
      "50000/50000 [==============================] - 6s 116us/step - loss: 1.5790 - acc: 0.4328 - val_loss: 1.5091 - val_acc: 0.4676\n",
      "Epoch 25/50\n",
      "50000/50000 [==============================] - 6s 112us/step - loss: 1.5716 - acc: 0.4372 - val_loss: 1.5044 - val_acc: 0.4663\n",
      "Epoch 26/50\n",
      "50000/50000 [==============================] - 6s 112us/step - loss: 1.5666 - acc: 0.4360 - val_loss: 1.4890 - val_acc: 0.4742\n",
      "Epoch 27/50\n",
      "50000/50000 [==============================] - 6s 122us/step - loss: 1.5568 - acc: 0.4424 - val_loss: 1.5092 - val_acc: 0.4617\n",
      "Epoch 28/50\n",
      "50000/50000 [==============================] - 6s 114us/step - loss: 1.5621 - acc: 0.4375 - val_loss: 1.5073 - val_acc: 0.4677\n",
      "Epoch 29/50\n",
      "50000/50000 [==============================] - 6s 111us/step - loss: 1.5638 - acc: 0.4391 - val_loss: 1.5175 - val_acc: 0.4618\n",
      "Epoch 30/50\n",
      "50000/50000 [==============================] - 6s 112us/step - loss: 1.5595 - acc: 0.4414 - val_loss: 1.5038 - val_acc: 0.4693\n",
      "Epoch 31/50\n",
      "50000/50000 [==============================] - 6s 122us/step - loss: 1.5411 - acc: 0.4472 - val_loss: 1.4813 - val_acc: 0.4767\n",
      "Epoch 32/50\n",
      "50000/50000 [==============================] - 6s 114us/step - loss: 1.5397 - acc: 0.4459 - val_loss: 1.4956 - val_acc: 0.4733\n",
      "Epoch 33/50\n",
      "50000/50000 [==============================] - 6s 112us/step - loss: 1.5413 - acc: 0.4447 - val_loss: 1.5046 - val_acc: 0.4704\n",
      "Epoch 34/50\n",
      "50000/50000 [==============================] - 6s 113us/step - loss: 1.5363 - acc: 0.4477 - val_loss: 1.5019 - val_acc: 0.4669\n",
      "Epoch 35/50\n",
      "50000/50000 [==============================] - 6s 113us/step - loss: 1.5301 - acc: 0.4500 - val_loss: 1.4841 - val_acc: 0.4737\n",
      "Epoch 36/50\n",
      "50000/50000 [==============================] - 6s 117us/step - loss: 1.5305 - acc: 0.4484 - val_loss: 1.4839 - val_acc: 0.4740\n",
      "Epoch 37/50\n",
      "50000/50000 [==============================] - 6s 116us/step - loss: 1.5262 - acc: 0.4515 - val_loss: 1.4697 - val_acc: 0.4773\n",
      "Epoch 38/50\n",
      "50000/50000 [==============================] - 6s 111us/step - loss: 1.5232 - acc: 0.4528 - val_loss: 1.4709 - val_acc: 0.4726\n",
      "Epoch 39/50\n",
      "50000/50000 [==============================] - 6s 113us/step - loss: 1.5162 - acc: 0.4565 - val_loss: 1.4696 - val_acc: 0.4834\n",
      "Epoch 40/50\n",
      "50000/50000 [==============================] - 6s 112us/step - loss: 1.5162 - acc: 0.4527 - val_loss: 1.4886 - val_acc: 0.4742\n",
      "Epoch 41/50\n",
      "50000/50000 [==============================] - 6s 114us/step - loss: 1.5199 - acc: 0.4531 - val_loss: 1.4608 - val_acc: 0.4841\n",
      "Epoch 42/50\n",
      "50000/50000 [==============================] - 6s 118us/step - loss: 1.5108 - acc: 0.4581 - val_loss: 1.4927 - val_acc: 0.4713\n",
      "Epoch 43/50\n"
     ]
    },
    {
     "name": "stdout",
     "output_type": "stream",
     "text": [
      "50000/50000 [==============================] - 6s 113us/step - loss: 1.5067 - acc: 0.4582 - val_loss: 1.4645 - val_acc: 0.4784\n",
      "Epoch 44/50\n",
      "50000/50000 [==============================] - 6s 111us/step - loss: 1.5041 - acc: 0.4578 - val_loss: 1.4686 - val_acc: 0.4844\n",
      "Epoch 45/50\n",
      "50000/50000 [==============================] - 6s 112us/step - loss: 1.5063 - acc: 0.4577 - val_loss: 1.4754 - val_acc: 0.4788\n",
      "Epoch 46/50\n",
      "50000/50000 [==============================] - 6s 114us/step - loss: 1.5033 - acc: 0.4570 - val_loss: 1.4750 - val_acc: 0.4754\n",
      "Epoch 47/50\n",
      "50000/50000 [==============================] - 6s 119us/step - loss: 1.5047 - acc: 0.4589 - val_loss: 1.4748 - val_acc: 0.4730\n",
      "Epoch 48/50\n",
      "50000/50000 [==============================] - 6s 116us/step - loss: 1.4953 - acc: 0.4637 - val_loss: 1.4858 - val_acc: 0.4740\n",
      "Epoch 49/50\n",
      "50000/50000 [==============================] - 6s 112us/step - loss: 1.4988 - acc: 0.4621 - val_loss: 1.4413 - val_acc: 0.4897\n",
      "Epoch 50/50\n",
      "50000/50000 [==============================] - 6s 111us/step - loss: 1.4954 - acc: 0.4603 - val_loss: 1.4566 - val_acc: 0.4813\n"
     ]
    }
   ],
   "source": [
    "model = build_mlp(input_shape=x_train.shape[1:], drp_ratio=Dropout_EXP)\n",
    "model.summary()\n",
    "model.compile(loss=\"categorical_crossentropy\", metrics=[\"accuracy\"], optimizer=\"Adam\")\n",
    "\n",
    "model.fit(x_train, y_train, \n",
    "          epochs=EPOCHS, \n",
    "          batch_size=BATCH_SIZE, \n",
    "          validation_data=(x_test, y_test), \n",
    "          shuffle=True)\n",
    "\n",
    "# Collect results\n",
    "train_loss = model.history.history[\"loss\"]\n",
    "valid_loss = model.history.history[\"val_loss\"]\n",
    "train_acc = model.history.history[\"acc\"]\n",
    "valid_acc = model.history.history[\"val_acc\"]"
   ]
  },
  {
   "cell_type": "code",
   "execution_count": 8,
   "metadata": {},
   "outputs": [
    {
     "data": {
      "image/png": "[encoded data removed]",
      "text/plain": [
       "<Figure size 432x288 with 1 Axes>"
      ]
     },
     "metadata": {
      "needs_background": "light"
     },
     "output_type": "display_data"
    },
    {
     "data": {
      "image/png": "[encoded data removed]",
      "text/plain": [
       "<Figure size 432x288 with 1 Axes>"
      ]
     },
     "metadata": {
      "needs_background": "light"
     },
     "output_type": "display_data"
    }
   ],
   "source": [
    "import matplotlib.pyplot as plt\n",
    "%matplotlib inline\n",
    "\n",
    "plt.plot(range(len(train_loss)), train_loss, label=\"train loss\")\n",
    "plt.plot(range(len(valid_loss)), valid_loss, label=\"valid loss\")\n",
    "plt.legend()\n",
    "plt.title(\"Loss\")\n",
    "plt.show()\n",
    "\n",
    "plt.plot(range(len(train_acc)), train_acc, label=\"train accuracy\")\n",
    "plt.plot(range(len(valid_acc)), valid_acc, label=\"valid accuracy\")\n",
    "plt.legend()\n",
    "plt.title(\"Accuracy\")\n",
    "plt.show()"
   ]
  }
 ],
 "metadata": {
  "kernelspec": {
   "display_name": "Python 2",
   "language": "python",
   "name": "python2"
  },
  "language_info": {
   "codemirror_mode": {
    "name": "ipython",
    "version": 2
   },
   "file_extension": ".py",
   "mimetype": "text/x-python",
   "name": "python",
   "nbconvert_exporter": "python",
   "pygments_lexer": "ipython2",
   "version": "2.7.12"
  }
 },
 "nbformat": 4,
 "nbformat_minor": 2
}
