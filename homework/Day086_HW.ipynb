{
 "cells": [
  {
   "cell_type": "markdown",
   "metadata": {},
   "source": [
    "## Work\n",
    "1. 試比較 save_best_only 與否的差異\n",
    "2. 請僅存入將 save_weights_only 設定為 True, 並嘗試 reset ipynb 並將模型與權重重新建回並預測 x_test"
   ]
  },
  {
   "cell_type": "code",
   "execution_count": 1,
   "metadata": {},
   "outputs": [
    {
     "name": "stderr",
     "output_type": "stream",
     "text": [
      "Using TensorFlow backend.\n"
     ]
    }
   ],
   "source": [
    "import os\n",
    "import keras\n",
    "\n",
    "# Disable GPU\n",
    "os.environ[\"CUDA_VISIBLE_DEVICES\"] = \"0\""
   ]
  },
  {
   "cell_type": "code",
   "execution_count": 2,
   "metadata": {},
   "outputs": [],
   "source": [
    "train, test = keras.datasets.cifar10.load_data()"
   ]
  },
  {
   "cell_type": "code",
   "execution_count": 3,
   "metadata": {},
   "outputs": [],
   "source": [
    "## 資料前處理\n",
    "def preproc_x(x, flatten=True):\n",
    "    x = x / 255.\n",
    "    if flatten:\n",
    "        x = x.reshape((len(x), -1))\n",
    "    return x\n",
    "\n",
    "def preproc_y(y, num_classes=10):\n",
    "    if y.shape[-1] == 1:\n",
    "        y = keras.utils.to_categorical(y, num_classes)\n",
    "    return y    "
   ]
  },
  {
   "cell_type": "code",
   "execution_count": 4,
   "metadata": {},
   "outputs": [],
   "source": [
    "x_train, y_train = train\n",
    "x_test, y_test = test\n",
    "\n",
    "# Preproc the inputs\n",
    "x_train = preproc_x(x_train)\n",
    "x_test = preproc_x(x_test)\n",
    "\n",
    "# Preprc the outputs\n",
    "y_train = preproc_y(y_train)\n",
    "y_test = preproc_y(y_test)"
   ]
  },
  {
   "cell_type": "code",
   "execution_count": 5,
   "metadata": {},
   "outputs": [],
   "source": [
    "from keras.layers import BatchNormalization\n",
    "\n",
    "\"\"\"\n",
    "建立神經網路，並加入 BN layer\n",
    "\"\"\"\n",
    "def build_mlp(input_shape, output_units=10, num_neurons=[512, 256, 128]):\n",
    "    input_layer = keras.layers.Input(input_shape)\n",
    "    \n",
    "    for i, n_units in enumerate(num_neurons):\n",
    "        if i == 0:\n",
    "            x = keras.layers.Dense(units=n_units, \n",
    "                                   activation=\"relu\", \n",
    "                                   name=\"hidden_layer\"+str(i+1))(input_layer)\n",
    "            x = BatchNormalization()(x)\n",
    "        else:\n",
    "            x = keras.layers.Dense(units=n_units, \n",
    "                                   activation=\"relu\", \n",
    "                                   name=\"hidden_layer\"+str(i+1))(x)\n",
    "            x = BatchNormalization()(x)\n",
    "    \n",
    "    out = keras.layers.Dense(units=output_units, activation=\"softmax\", name=\"output\")(x)\n",
    "    \n",
    "    model = keras.models.Model(inputs=[input_layer], outputs=[out])\n",
    "    return model"
   ]
  },
  {
   "cell_type": "code",
   "execution_count": 6,
   "metadata": {},
   "outputs": [],
   "source": [
    "## 超參數設定\n",
    "LEARNING_RATE = 1e-3\n",
    "EPOCHS = 50\n",
    "BATCH_SIZE = 1024\n",
    "MOMENTUM = 0.95"
   ]
  },
  {
   "cell_type": "code",
   "execution_count": 7,
   "metadata": {},
   "outputs": [],
   "source": [
    "# 載入 Callbacks\n",
    "from keras.callbacks import ModelCheckpoint\n",
    "\n",
    "model_ckpt = ModelCheckpoint(filepath=\"./tmp.h5\", \n",
    "                             monitor=\"val_loss\", \n",
    "                             save_best_only=True)"
   ]
  },
  {
   "cell_type": "code",
   "execution_count": 8,
   "metadata": {},
   "outputs": [
    {
     "name": "stdout",
     "output_type": "stream",
     "text": [
      "WARNING:tensorflow:From /usr/local/lib/python2.7/dist-packages/tensorflow/python/framework/op_def_library.py:263: colocate_with (from tensorflow.python.framework.ops) is deprecated and will be removed in a future version.\n",
      "Instructions for updating:\n",
      "Colocations handled automatically by placer.\n",
      "_________________________________________________________________\n",
      "Layer (type)                 Output Shape              Param #   \n",
      "=================================================================\n",
      "input_1 (InputLayer)         (None, 3072)              0         \n",
      "_________________________________________________________________\n",
      "hidden_layer1 (Dense)        (None, 512)               1573376   \n",
      "_________________________________________________________________\n",
      "batch_normalization_1 (Batch (None, 512)               2048      \n",
      "_________________________________________________________________\n",
      "hidden_layer2 (Dense)        (None, 256)               131328    \n",
      "_________________________________________________________________\n",
      "batch_normalization_2 (Batch (None, 256)               1024      \n",
      "_________________________________________________________________\n",
      "hidden_layer3 (Dense)        (None, 128)               32896     \n",
      "_________________________________________________________________\n",
      "batch_normalization_3 (Batch (None, 128)               512       \n",
      "_________________________________________________________________\n",
      "output (Dense)               (None, 10)                1290      \n",
      "=================================================================\n",
      "Total params: 1,742,474\n",
      "Trainable params: 1,740,682\n",
      "Non-trainable params: 1,792\n",
      "_________________________________________________________________\n",
      "WARNING:tensorflow:From /usr/local/lib/python2.7/dist-packages/tensorflow/python/ops/math_ops.py:3066: to_int32 (from tensorflow.python.ops.math_ops) is deprecated and will be removed in a future version.\n",
      "Instructions for updating:\n",
      "Use tf.cast instead.\n",
      "Train on 50000 samples, validate on 10000 samples\n",
      "Epoch 1/50\n",
      "50000/50000 [==============================] - 5s 109us/step - loss: 2.2013 - acc: 0.2717 - val_loss: 2.1228 - val_acc: 0.3303\n",
      "Epoch 2/50\n",
      "50000/50000 [==============================] - 4s 74us/step - loss: 1.7481 - acc: 0.3923 - val_loss: 1.8268 - val_acc: 0.3746\n",
      "Epoch 3/50\n",
      "50000/50000 [==============================] - 3s 65us/step - loss: 1.6185 - acc: 0.4347 - val_loss: 1.7112 - val_acc: 0.4046\n",
      "Epoch 4/50\n",
      "50000/50000 [==============================] - 4s 71us/step - loss: 1.5435 - acc: 0.4592 - val_loss: 1.6286 - val_acc: 0.4328\n",
      "Epoch 5/50\n",
      "50000/50000 [==============================] - 3s 68us/step - loss: 1.4850 - acc: 0.4811 - val_loss: 1.5834 - val_acc: 0.4406\n",
      "Epoch 6/50\n",
      "50000/50000 [==============================] - 3s 66us/step - loss: 1.4387 - acc: 0.4978 - val_loss: 1.5651 - val_acc: 0.4489\n",
      "Epoch 7/50\n",
      "50000/50000 [==============================] - 3s 61us/step - loss: 1.3971 - acc: 0.5097 - val_loss: 1.5379 - val_acc: 0.4560\n",
      "Epoch 8/50\n",
      "50000/50000 [==============================] - 3s 62us/step - loss: 1.3624 - acc: 0.5246 - val_loss: 1.5187 - val_acc: 0.4634\n",
      "Epoch 9/50\n",
      "50000/50000 [==============================] - 3s 67us/step - loss: 1.3323 - acc: 0.5323 - val_loss: 1.5142 - val_acc: 0.4691\n",
      "Epoch 10/50\n",
      "50000/50000 [==============================] - 3s 68us/step - loss: 1.3008 - acc: 0.5461 - val_loss: 1.4848 - val_acc: 0.4738\n",
      "Epoch 11/50\n",
      "50000/50000 [==============================] - 3s 65us/step - loss: 1.2717 - acc: 0.5561 - val_loss: 1.4814 - val_acc: 0.4760\n",
      "Epoch 12/50\n",
      "50000/50000 [==============================] - 3s 64us/step - loss: 1.2441 - acc: 0.5664 - val_loss: 1.4772 - val_acc: 0.4764\n",
      "Epoch 13/50\n",
      "50000/50000 [==============================] - 3s 66us/step - loss: 1.2184 - acc: 0.5743 - val_loss: 1.4846 - val_acc: 0.4769\n",
      "Epoch 14/50\n",
      "50000/50000 [==============================] - 3s 61us/step - loss: 1.1922 - acc: 0.5854 - val_loss: 1.4710 - val_acc: 0.4786\n",
      "Epoch 15/50\n",
      "50000/50000 [==============================] - 3s 61us/step - loss: 1.1674 - acc: 0.5943 - val_loss: 1.4617 - val_acc: 0.4836\n",
      "Epoch 16/50\n",
      "50000/50000 [==============================] - 3s 66us/step - loss: 1.1437 - acc: 0.6052 - val_loss: 1.4883 - val_acc: 0.4766\n",
      "Epoch 17/50\n",
      "50000/50000 [==============================] - 3s 62us/step - loss: 1.1211 - acc: 0.6131 - val_loss: 1.4705 - val_acc: 0.4865\n",
      "Epoch 18/50\n",
      "50000/50000 [==============================] - 3s 61us/step - loss: 1.0985 - acc: 0.6220 - val_loss: 1.4651 - val_acc: 0.4893\n",
      "Epoch 19/50\n",
      "50000/50000 [==============================] - 3s 59us/step - loss: 1.0767 - acc: 0.6309 - val_loss: 1.4572 - val_acc: 0.4880\n",
      "Epoch 20/50\n",
      "50000/50000 [==============================] - 3s 63us/step - loss: 1.0518 - acc: 0.6401 - val_loss: 1.4536 - val_acc: 0.4879\n",
      "Epoch 21/50\n",
      "50000/50000 [==============================] - 3s 67us/step - loss: 1.0318 - acc: 0.6501 - val_loss: 1.4462 - val_acc: 0.4915\n",
      "Epoch 22/50\n",
      "50000/50000 [==============================] - 3s 60us/step - loss: 1.0117 - acc: 0.6561 - val_loss: 1.4506 - val_acc: 0.4907\n",
      "Epoch 23/50\n",
      "50000/50000 [==============================] - 3s 60us/step - loss: 0.9894 - acc: 0.6647 - val_loss: 1.4505 - val_acc: 0.4911\n",
      "Epoch 24/50\n",
      "50000/50000 [==============================] - 3s 63us/step - loss: 0.9670 - acc: 0.6719 - val_loss: 1.4483 - val_acc: 0.4907\n",
      "Epoch 25/50\n",
      "50000/50000 [==============================] - 3s 68us/step - loss: 0.9468 - acc: 0.6816 - val_loss: 1.4567 - val_acc: 0.4975\n",
      "Epoch 26/50\n",
      "50000/50000 [==============================] - 3s 60us/step - loss: 0.9275 - acc: 0.6883 - val_loss: 1.4583 - val_acc: 0.4962\n",
      "Epoch 27/50\n",
      "50000/50000 [==============================] - 3s 60us/step - loss: 0.9070 - acc: 0.6980 - val_loss: 1.4660 - val_acc: 0.4968\n",
      "Epoch 28/50\n",
      "50000/50000 [==============================] - 3s 61us/step - loss: 0.8823 - acc: 0.7074 - val_loss: 1.4687 - val_acc: 0.4939\n",
      "Epoch 29/50\n",
      "50000/50000 [==============================] - 3s 69us/step - loss: 0.8650 - acc: 0.7127 - val_loss: 1.4792 - val_acc: 0.4949\n",
      "Epoch 30/50\n",
      "50000/50000 [==============================] - 3s 61us/step - loss: 0.8450 - acc: 0.7204 - val_loss: 1.4878 - val_acc: 0.4926\n",
      "Epoch 31/50\n",
      "50000/50000 [==============================] - 3s 59us/step - loss: 0.8243 - acc: 0.7281 - val_loss: 1.4914 - val_acc: 0.4980\n",
      "Epoch 32/50\n",
      "50000/50000 [==============================] - 3s 63us/step - loss: 0.8042 - acc: 0.7373 - val_loss: 1.4921 - val_acc: 0.4928\n",
      "Epoch 33/50\n",
      "50000/50000 [==============================] - 3s 68us/step - loss: 0.7867 - acc: 0.7439 - val_loss: 1.5127 - val_acc: 0.4945\n",
      "Epoch 34/50\n",
      "50000/50000 [==============================] - 3s 61us/step - loss: 0.7655 - acc: 0.7535 - val_loss: 1.5086 - val_acc: 0.4941\n",
      "Epoch 35/50\n",
      "50000/50000 [==============================] - 3s 60us/step - loss: 0.7467 - acc: 0.7602 - val_loss: 1.5177 - val_acc: 0.4893\n",
      "Epoch 36/50\n",
      "50000/50000 [==============================] - 3s 60us/step - loss: 0.7276 - acc: 0.7684 - val_loss: 1.5166 - val_acc: 0.4961\n",
      "Epoch 37/50\n",
      "50000/50000 [==============================] - 3s 64us/step - loss: 0.7069 - acc: 0.7755 - val_loss: 1.5639 - val_acc: 0.4868\n",
      "Epoch 38/50\n",
      "50000/50000 [==============================] - 3s 65us/step - loss: 0.6906 - acc: 0.7831 - val_loss: 1.5481 - val_acc: 0.4871\n",
      "Epoch 39/50\n",
      "50000/50000 [==============================] - 3s 59us/step - loss: 0.6714 - acc: 0.7913 - val_loss: 1.5648 - val_acc: 0.4917\n",
      "Epoch 40/50\n",
      "50000/50000 [==============================] - 3s 60us/step - loss: 0.6521 - acc: 0.7984 - val_loss: 1.5704 - val_acc: 0.4857\n",
      "Epoch 41/50\n",
      "50000/50000 [==============================] - 3s 60us/step - loss: 0.6325 - acc: 0.8075 - val_loss: 1.5733 - val_acc: 0.4881\n",
      "Epoch 42/50\n",
      "50000/50000 [==============================] - 3s 60us/step - loss: 0.6162 - acc: 0.8131 - val_loss: 1.6074 - val_acc: 0.4876\n",
      "Epoch 43/50\n",
      "50000/50000 [==============================] - 3s 60us/step - loss: 0.5982 - acc: 0.8208 - val_loss: 1.5948 - val_acc: 0.4827\n",
      "Epoch 44/50\n",
      "50000/50000 [==============================] - 3s 60us/step - loss: 0.5783 - acc: 0.8278 - val_loss: 1.6036 - val_acc: 0.4928\n",
      "Epoch 45/50\n",
      "50000/50000 [==============================] - 3s 64us/step - loss: 0.5617 - acc: 0.8344 - val_loss: 1.6282 - val_acc: 0.4880\n"
     ]
    },
    {
     "name": "stdout",
     "output_type": "stream",
     "text": [
      "Epoch 46/50\n",
      "50000/50000 [==============================] - 3s 64us/step - loss: 0.5459 - acc: 0.8420 - val_loss: 1.6254 - val_acc: 0.4841\n",
      "Epoch 47/50\n",
      "50000/50000 [==============================] - 3s 59us/step - loss: 0.5290 - acc: 0.8472 - val_loss: 1.6895 - val_acc: 0.4769\n",
      "Epoch 48/50\n",
      "50000/50000 [==============================] - 3s 60us/step - loss: 0.5112 - acc: 0.8560 - val_loss: 1.6510 - val_acc: 0.4859\n",
      "Epoch 49/50\n",
      "50000/50000 [==============================] - 3s 59us/step - loss: 0.4950 - acc: 0.8625 - val_loss: 1.7025 - val_acc: 0.4764\n",
      "Epoch 50/50\n",
      "50000/50000 [==============================] - 3s 61us/step - loss: 0.4777 - acc: 0.8697 - val_loss: 1.6872 - val_acc: 0.4862\n",
      "10000/10000 [==============================] - 2s 161us/step\n"
     ]
    }
   ],
   "source": [
    "results = {}\n",
    "\n",
    "model = build_mlp(input_shape=x_train.shape[1:])\n",
    "model.summary()\n",
    "optimizer = keras.optimizers.SGD(lr=LEARNING_RATE, nesterov=True, momentum=MOMENTUM)\n",
    "model.compile(loss=\"categorical_crossentropy\", metrics=[\"accuracy\"], optimizer=optimizer)\n",
    "\n",
    "model.fit(x_train, y_train, \n",
    "          epochs=EPOCHS, \n",
    "          batch_size=BATCH_SIZE, \n",
    "          validation_data=(x_test, y_test), \n",
    "          shuffle=True,\n",
    "          callbacks=[model_ckpt]\n",
    "         )\n",
    "\n",
    "# Collect results\n",
    "train_loss = model.history.history[\"loss\"]\n",
    "valid_loss = model.history.history[\"val_loss\"]\n",
    "train_acc = model.history.history[\"acc\"]\n",
    "valid_acc = model.history.history[\"val_acc\"]\n",
    "\n",
    "# Load back\n",
    "model = keras.models.load_model(\"./tmp.h5\")\n",
    "loss_loadback, acc_loadback = model.evaluate(x_test, y_test)"
   ]
  },
  {
   "cell_type": "code",
   "execution_count": 10,
   "metadata": {
    "scrolled": true
   },
   "outputs": [
    {
     "data": {
      "image/png": "[encoded data removed]",
      "text/plain": [
       "<Figure size 432x288 with 1 Axes>"
      ]
     },
     "metadata": {
      "needs_background": "light"
     },
     "output_type": "display_data"
    },
    {
     "data": {
      "image/png": "[encoded data removed]",
      "text/plain": [
       "<Figure size 432x288 with 1 Axes>"
      ]
     },
     "metadata": {
      "needs_background": "light"
     },
     "output_type": "display_data"
    }
   ],
   "source": [
    "import matplotlib.pyplot as plt\n",
    "%matplotlib inline\n",
    "\n",
    "plt.plot(range(len(train_loss)), train_loss, label=\"train loss\")\n",
    "plt.plot(range(len(valid_loss)), valid_loss, label=\"valid loss\")\n",
    "plt.hlines(y=loss_loadback, xmin=0, xmax=len(train_loss), colors='r', linestyles='--')\n",
    "plt.legend()\n",
    "plt.title(\"Loss\")\n",
    "plt.show()\n",
    "\n",
    "plt.plot(range(len(train_acc)), train_acc, label=\"train accuracy\")\n",
    "plt.plot(range(len(valid_acc)), valid_acc, label=\"valid accuracy\")\n",
    "plt.hlines(y=acc_loadback, xmin=0, xmax=len(train_loss), colors='r', linestyles='--')\n",
    "plt.legend()\n",
    "plt.title(\"Accuracy\")\n",
    "plt.show()"
   ]
  },
  {
   "cell_type": "code",
   "execution_count": null,
   "metadata": {},
   "outputs": [],
   "source": []
  }
 ],
 "metadata": {
  "kernelspec": {
   "display_name": "Python 2",
   "language": "python",
   "name": "python2"
  },
  "language_info": {
   "codemirror_mode": {
    "name": "ipython",
    "version": 2
   },
   "file_extension": ".py",
   "mimetype": "text/x-python",
   "name": "python",
   "nbconvert_exporter": "python",
   "pygments_lexer": "ipython2",
   "version": "2.7.12"
  }
 },
 "nbformat": 4,
 "nbformat_minor": 2
}
