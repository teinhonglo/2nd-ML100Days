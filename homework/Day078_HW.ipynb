{
 "cells": [
  {
   "cell_type": "markdown",
   "metadata": {},
   "source": [
    "## Work\n",
    "1. 請嘗試將 preproc_x 替換成以每筆資料的 min/max 進行標準化至 -1 ~ 1 間，再進行訓練\n",
    "2. 請嘗試將 mlp 疊更深 (e.g 5~10 層)，進行訓練後觀察 learning curve 的走勢\n",
    "3. (optional) 請改用 GPU 進行訓練 (如果你有 GPU 的話)，比較使用 CPU 與 GPU 的訓練速度"
   ]
  },
  {
   "cell_type": "code",
   "execution_count": 1,
   "metadata": {},
   "outputs": [
    {
     "name": "stdout",
     "output_type": "stream",
     "text": [
      "Mon Jul 15 23:11:30 2019       \r\n",
      "+-----------------------------------------------------------------------------+\r\n",
      "| NVIDIA-SMI 418.39       Driver Version: 418.39       CUDA Version: 10.1     |\r\n",
      "|-------------------------------+----------------------+----------------------+\r\n",
      "| GPU  Name        Persistence-M| Bus-Id        Disp.A | Volatile Uncorr. ECC |\r\n",
      "| Fan  Temp  Perf  Pwr:Usage/Cap|         Memory-Usage | GPU-Util  Compute M. |\r\n",
      "|===============================+======================+======================|\r\n",
      "|   0  Tesla K20m          Off  | 00000000:05:00.0 Off |                  Off |\r\n",
      "| N/A   41C    P0    44W / 225W |      0MiB /  5062MiB |      0%      Default |\r\n",
      "+-------------------------------+----------------------+----------------------+\r\n",
      "                                                                               \r\n",
      "+-----------------------------------------------------------------------------+\r\n",
      "| Processes:                                                       GPU Memory |\r\n",
      "|  GPU       PID   Type   Process name                             Usage      |\r\n",
      "|=============================================================================|\r\n",
      "|  No running processes found                                                 |\r\n",
      "+-----------------------------------------------------------------------------+\r\n"
     ]
    }
   ],
   "source": [
    "## \n",
    "!nvidia-smi\n"
   ]
  },
  {
   "cell_type": "code",
   "execution_count": 2,
   "metadata": {},
   "outputs": [
    {
     "name": "stderr",
     "output_type": "stream",
     "text": [
      "Using TensorFlow backend.\n"
     ]
    }
   ],
   "source": [
    "import os\n",
    "import keras\n",
    "\n",
    "# 請嘗試設定 GPU：os.environ\n",
    "os.environ[\"CUDA_VISIBLE_DEVICES\"] = \"0\""
   ]
  },
  {
   "cell_type": "code",
   "execution_count": 3,
   "metadata": {},
   "outputs": [],
   "source": [
    "train, test = keras.datasets.cifar10.load_data()"
   ]
  },
  {
   "cell_type": "code",
   "execution_count": 4,
   "metadata": {},
   "outputs": [],
   "source": [
    "## 資料前處理\n",
    "def preproc_x(x, flatten=True):\n",
    "    x = x / 255.\n",
    "    if flatten:\n",
    "        x = x.reshape((len(x), -1))\n",
    "    return x\n",
    "\n",
    "def preproc_y(y, num_classes=10):\n",
    "    if y.shape[-1] == 1:\n",
    "        y = keras.utils.to_categorical(y, num_classes)\n",
    "    return y    "
   ]
  },
  {
   "cell_type": "code",
   "execution_count": 5,
   "metadata": {},
   "outputs": [],
   "source": [
    "x_train, y_train = train\n",
    "x_test, y_test = test\n",
    "\n",
    "# Preproc the inputs\n",
    "x_train = preproc_x(x_train)\n",
    "x_test = preproc_x(x_test)\n",
    "\n",
    "# Preprc the outputs\n",
    "y_train = preproc_y(y_train)\n",
    "y_test = preproc_y(y_test)"
   ]
  },
  {
   "cell_type": "code",
   "execution_count": 6,
   "metadata": {},
   "outputs": [
    {
     "name": "stdout",
     "output_type": "stream",
     "text": [
      "WARNING:tensorflow:From /usr/local/lib/python2.7/dist-packages/tensorflow/python/framework/op_def_library.py:263: colocate_with (from tensorflow.python.framework.ops) is deprecated and will be removed in a future version.\n",
      "Instructions for updating:\n",
      "Colocations handled automatically by placer.\n",
      "_________________________________________________________________\n",
      "Layer (type)                 Output Shape              Param #   \n",
      "=================================================================\n",
      "input_1 (InputLayer)         (None, 3072)              0         \n",
      "_________________________________________________________________\n",
      "hidden_layer1 (Dense)        (None, 512)               1573376   \n",
      "_________________________________________________________________\n",
      "hidden_layer2 (Dense)        (None, 256)               131328    \n",
      "_________________________________________________________________\n",
      "hidden_layer3 (Dense)        (None, 128)               32896     \n",
      "_________________________________________________________________\n",
      "output (Dense)               (None, 10)                1290      \n",
      "=================================================================\n",
      "Total params: 1,738,890\n",
      "Trainable params: 1,738,890\n",
      "Non-trainable params: 0\n",
      "_________________________________________________________________\n"
     ]
    }
   ],
   "source": [
    "def build_mlp(input_shape, output_units=10, num_neurons=[512, 256, 128]):\n",
    "    input_layer = keras.layers.Input(input_shape)\n",
    "    \n",
    "    for i, n_units in enumerate(num_neurons):\n",
    "        if i == 0:\n",
    "            x = keras.layers.Dense(units=n_units, activation=\"relu\", name=\"hidden_layer\"+str(i+1))(input_layer)\n",
    "        else:\n",
    "            x = keras.layers.Dense(units=n_units, activation=\"relu\", name=\"hidden_layer\"+str(i+1))(x)\n",
    "    \n",
    "    out = keras.layers.Dense(units=output_units, activation=\"softmax\", name=\"output\")(x)\n",
    "    \n",
    "    model = keras.models.Model(inputs=[input_layer], outputs=[out])\n",
    "    return model\n",
    "model = build_mlp(input_shape=x_train.shape[1:])\n",
    "model.summary()"
   ]
  },
  {
   "cell_type": "code",
   "execution_count": 7,
   "metadata": {},
   "outputs": [],
   "source": [
    "## 超參數設定\n",
    "LEARNING_RATE = 0.001\n",
    "EPOCHS = 100\n",
    "BATCH_SIZE = 256"
   ]
  },
  {
   "cell_type": "code",
   "execution_count": 8,
   "metadata": {},
   "outputs": [],
   "source": [
    "optimizer = keras.optimizers.Adam(lr=LEARNING_RATE)\n",
    "model.compile(loss=\"categorical_crossentropy\", metrics=[\"accuracy\"], optimizer=optimizer)"
   ]
  },
  {
   "cell_type": "code",
   "execution_count": 9,
   "metadata": {},
   "outputs": [
    {
     "name": "stdout",
     "output_type": "stream",
     "text": [
      "WARNING:tensorflow:From /usr/local/lib/python2.7/dist-packages/tensorflow/python/ops/math_ops.py:3066: to_int32 (from tensorflow.python.ops.math_ops) is deprecated and will be removed in a future version.\n",
      "Instructions for updating:\n",
      "Use tf.cast instead.\n",
      "Train on 50000 samples, validate on 10000 samples\n",
      "Epoch 1/100\n",
      "50000/50000 [==============================] - 6s 111us/step - loss: 1.9455 - acc: 0.3015 - val_loss: 1.7719 - val_acc: 0.3598\n",
      "Epoch 2/100\n",
      "50000/50000 [==============================] - 5s 103us/step - loss: 1.7244 - acc: 0.3814 - val_loss: 1.6799 - val_acc: 0.3994\n",
      "Epoch 3/100\n",
      "50000/50000 [==============================] - 6s 112us/step - loss: 1.6257 - acc: 0.4207 - val_loss: 1.5892 - val_acc: 0.4357\n",
      "Epoch 4/100\n",
      "50000/50000 [==============================] - 6s 111us/step - loss: 1.5635 - acc: 0.4452 - val_loss: 1.5516 - val_acc: 0.4480\n",
      "Epoch 5/100\n",
      "50000/50000 [==============================] - 5s 104us/step - loss: 1.5137 - acc: 0.4607 - val_loss: 1.5294 - val_acc: 0.4565\n",
      "Epoch 6/100\n",
      "50000/50000 [==============================] - 5s 101us/step - loss: 1.4751 - acc: 0.4738 - val_loss: 1.5017 - val_acc: 0.4646\n",
      "Epoch 7/100\n",
      "50000/50000 [==============================] - 5s 106us/step - loss: 1.4395 - acc: 0.4859 - val_loss: 1.4998 - val_acc: 0.4661\n",
      "Epoch 8/100\n",
      "50000/50000 [==============================] - 5s 108us/step - loss: 1.4126 - acc: 0.4974 - val_loss: 1.4255 - val_acc: 0.4946\n",
      "Epoch 9/100\n",
      "50000/50000 [==============================] - 5s 96us/step - loss: 1.3870 - acc: 0.5066 - val_loss: 1.4323 - val_acc: 0.4971\n",
      "Epoch 10/100\n",
      "50000/50000 [==============================] - 5s 95us/step - loss: 1.3596 - acc: 0.5141 - val_loss: 1.4052 - val_acc: 0.5042\n",
      "Epoch 11/100\n",
      "50000/50000 [==============================] - 5s 97us/step - loss: 1.3329 - acc: 0.5247 - val_loss: 1.4146 - val_acc: 0.4993\n",
      "Epoch 12/100\n",
      "50000/50000 [==============================] - 5s 98us/step - loss: 1.3069 - acc: 0.5358 - val_loss: 1.4898 - val_acc: 0.4889\n",
      "Epoch 13/100\n",
      "50000/50000 [==============================] - 5s 98us/step - loss: 1.2863 - acc: 0.5417 - val_loss: 1.3869 - val_acc: 0.5143\n",
      "Epoch 14/100\n",
      "50000/50000 [==============================] - 5s 99us/step - loss: 1.2590 - acc: 0.5515 - val_loss: 1.3957 - val_acc: 0.5069\n",
      "Epoch 15/100\n",
      "50000/50000 [==============================] - 5s 98us/step - loss: 1.2453 - acc: 0.5546 - val_loss: 1.3798 - val_acc: 0.5144\n",
      "Epoch 16/100\n",
      "50000/50000 [==============================] - 5s 96us/step - loss: 1.2182 - acc: 0.5651 - val_loss: 1.4225 - val_acc: 0.4934\n",
      "Epoch 17/100\n",
      "50000/50000 [==============================] - 5s 100us/step - loss: 1.2034 - acc: 0.5698 - val_loss: 1.3788 - val_acc: 0.5112\n",
      "Epoch 18/100\n",
      "50000/50000 [==============================] - 5s 103us/step - loss: 1.1789 - acc: 0.5802 - val_loss: 1.3900 - val_acc: 0.5104\n",
      "Epoch 19/100\n",
      "50000/50000 [==============================] - 5s 95us/step - loss: 1.1560 - acc: 0.5870 - val_loss: 1.3445 - val_acc: 0.5242\n",
      "Epoch 20/100\n",
      "50000/50000 [==============================] - 5s 95us/step - loss: 1.1332 - acc: 0.5953 - val_loss: 1.3778 - val_acc: 0.5270\n",
      "Epoch 21/100\n",
      "50000/50000 [==============================] - 5s 95us/step - loss: 1.1169 - acc: 0.5991 - val_loss: 1.3757 - val_acc: 0.5140\n",
      "Epoch 22/100\n",
      "50000/50000 [==============================] - 5s 96us/step - loss: 1.1005 - acc: 0.6073 - val_loss: 1.3654 - val_acc: 0.5232\n",
      "Epoch 23/100\n",
      "50000/50000 [==============================] - 5s 98us/step - loss: 1.0712 - acc: 0.6159 - val_loss: 1.3707 - val_acc: 0.5205\n",
      "Epoch 24/100\n",
      "50000/50000 [==============================] - 5s 96us/step - loss: 1.0553 - acc: 0.6247 - val_loss: 1.3830 - val_acc: 0.5150\n",
      "Epoch 25/100\n",
      "50000/50000 [==============================] - 5s 101us/step - loss: 1.0355 - acc: 0.6294 - val_loss: 1.3710 - val_acc: 0.5302\n",
      "Epoch 26/100\n",
      "50000/50000 [==============================] - 5s 96us/step - loss: 1.0207 - acc: 0.6341 - val_loss: 1.4019 - val_acc: 0.5183\n",
      "Epoch 27/100\n",
      "50000/50000 [==============================] - 5s 106us/step - loss: 1.0028 - acc: 0.6438 - val_loss: 1.3929 - val_acc: 0.5191\n",
      "Epoch 28/100\n",
      "50000/50000 [==============================] - 5s 96us/step - loss: 0.9924 - acc: 0.6429 - val_loss: 1.4189 - val_acc: 0.5263\n",
      "Epoch 29/100\n",
      "50000/50000 [==============================] - 5s 95us/step - loss: 0.9617 - acc: 0.6560 - val_loss: 1.4618 - val_acc: 0.5131\n",
      "Epoch 30/100\n",
      "50000/50000 [==============================] - 5s 99us/step - loss: 0.9456 - acc: 0.6625 - val_loss: 1.4161 - val_acc: 0.5236\n",
      "Epoch 31/100\n",
      "50000/50000 [==============================] - 5s 98us/step - loss: 0.9409 - acc: 0.6641 - val_loss: 1.4479 - val_acc: 0.5204\n",
      "Epoch 32/100\n",
      "50000/50000 [==============================] - 5s 98us/step - loss: 0.9123 - acc: 0.6718 - val_loss: 1.4249 - val_acc: 0.5240\n",
      "Epoch 33/100\n",
      "50000/50000 [==============================] - 5s 100us/step - loss: 0.9030 - acc: 0.6789 - val_loss: 1.4391 - val_acc: 0.5218\n",
      "Epoch 34/100\n",
      "50000/50000 [==============================] - 5s 94us/step - loss: 0.8776 - acc: 0.6854 - val_loss: 1.5162 - val_acc: 0.5156\n",
      "Epoch 35/100\n",
      "50000/50000 [==============================] - 5s 97us/step - loss: 0.8714 - acc: 0.6884 - val_loss: 1.4682 - val_acc: 0.5206\n",
      "Epoch 36/100\n",
      "50000/50000 [==============================] - 5s 97us/step - loss: 0.8535 - acc: 0.6934 - val_loss: 1.5018 - val_acc: 0.5156\n",
      "Epoch 37/100\n",
      "50000/50000 [==============================] - 5s 98us/step - loss: 0.8303 - acc: 0.7021 - val_loss: 1.5161 - val_acc: 0.5191\n",
      "Epoch 38/100\n",
      "50000/50000 [==============================] - 5s 100us/step - loss: 0.8150 - acc: 0.7077 - val_loss: 1.5553 - val_acc: 0.5160\n",
      "Epoch 39/100\n",
      "50000/50000 [==============================] - 5s 97us/step - loss: 0.7910 - acc: 0.7163 - val_loss: 1.5489 - val_acc: 0.5166\n",
      "Epoch 40/100\n",
      "50000/50000 [==============================] - 5s 95us/step - loss: 0.8030 - acc: 0.7134 - val_loss: 1.5831 - val_acc: 0.5118\n",
      "Epoch 41/100\n",
      "50000/50000 [==============================] - 5s 97us/step - loss: 0.7678 - acc: 0.7240 - val_loss: 1.5272 - val_acc: 0.5327\n",
      "Epoch 42/100\n",
      "50000/50000 [==============================] - 5s 97us/step - loss: 0.7453 - acc: 0.7353 - val_loss: 1.5670 - val_acc: 0.5205\n",
      "Epoch 43/100\n",
      "50000/50000 [==============================] - 5s 96us/step - loss: 0.7468 - acc: 0.7331 - val_loss: 1.6051 - val_acc: 0.5272\n",
      "Epoch 44/100\n",
      "50000/50000 [==============================] - 5s 99us/step - loss: 0.7239 - acc: 0.7418 - val_loss: 1.6008 - val_acc: 0.5280\n",
      "Epoch 45/100\n",
      "50000/50000 [==============================] - 5s 97us/step - loss: 0.7019 - acc: 0.7490 - val_loss: 1.6485 - val_acc: 0.5254\n",
      "Epoch 46/100\n",
      "50000/50000 [==============================] - 5s 96us/step - loss: 0.6860 - acc: 0.7558 - val_loss: 1.6350 - val_acc: 0.5218\n",
      "Epoch 47/100\n",
      "50000/50000 [==============================] - 5s 96us/step - loss: 0.6822 - acc: 0.7558 - val_loss: 1.6779 - val_acc: 0.5221\n",
      "Epoch 48/100\n",
      "50000/50000 [==============================] - 5s 97us/step - loss: 0.6719 - acc: 0.7585 - val_loss: 1.6897 - val_acc: 0.5242\n",
      "Epoch 49/100\n",
      "50000/50000 [==============================] - 5s 98us/step - loss: 0.6525 - acc: 0.7670 - val_loss: 1.7390 - val_acc: 0.5208\n",
      "Epoch 50/100\n",
      "50000/50000 [==============================] - 5s 98us/step - loss: 0.6414 - acc: 0.7694 - val_loss: 1.7683 - val_acc: 0.5248\n",
      "Epoch 51/100\n",
      "50000/50000 [==============================] - 5s 97us/step - loss: 0.6179 - acc: 0.7792 - val_loss: 1.8171 - val_acc: 0.5145\n",
      "Epoch 52/100\n",
      "50000/50000 [==============================] - 5s 96us/step - loss: 0.6319 - acc: 0.7736 - val_loss: 1.7543 - val_acc: 0.5226\n",
      "Epoch 53/100\n",
      "50000/50000 [==============================] - 5s 95us/step - loss: 0.6083 - acc: 0.7821 - val_loss: 1.7954 - val_acc: 0.5191\n",
      "Epoch 54/100\n",
      "50000/50000 [==============================] - 5s 97us/step - loss: 0.5788 - acc: 0.7929 - val_loss: 1.8448 - val_acc: 0.5170\n",
      "Epoch 55/100\n",
      "50000/50000 [==============================] - 5s 102us/step - loss: 0.5709 - acc: 0.7944 - val_loss: 1.8383 - val_acc: 0.5217\n",
      "Epoch 56/100\n",
      "50000/50000 [==============================] - 5s 98us/step - loss: 0.5725 - acc: 0.7933 - val_loss: 1.8833 - val_acc: 0.5197\n",
      "Epoch 57/100\n"
     ]
    },
    {
     "name": "stdout",
     "output_type": "stream",
     "text": [
      "50000/50000 [==============================] - 5s 96us/step - loss: 0.5472 - acc: 0.8030 - val_loss: 1.9403 - val_acc: 0.5181\n",
      "Epoch 58/100\n",
      "50000/50000 [==============================] - 5s 95us/step - loss: 0.5434 - acc: 0.8053 - val_loss: 1.9337 - val_acc: 0.5170\n",
      "Epoch 59/100\n",
      "50000/50000 [==============================] - 5s 98us/step - loss: 0.5361 - acc: 0.8067 - val_loss: 1.9800 - val_acc: 0.5129\n",
      "Epoch 60/100\n",
      "50000/50000 [==============================] - 5s 95us/step - loss: 0.5097 - acc: 0.8186 - val_loss: 1.9813 - val_acc: 0.5162\n",
      "Epoch 61/100\n",
      "50000/50000 [==============================] - 5s 99us/step - loss: 0.5191 - acc: 0.8135 - val_loss: 2.0055 - val_acc: 0.5154\n",
      "Epoch 62/100\n",
      "50000/50000 [==============================] - 5s 99us/step - loss: 0.5176 - acc: 0.8136 - val_loss: 2.0920 - val_acc: 0.5101\n",
      "Epoch 63/100\n",
      "50000/50000 [==============================] - 5s 100us/step - loss: 0.5021 - acc: 0.8199 - val_loss: 2.1191 - val_acc: 0.5074\n",
      "Epoch 64/100\n",
      "50000/50000 [==============================] - 5s 95us/step - loss: 0.4848 - acc: 0.8270 - val_loss: 2.0938 - val_acc: 0.5124\n",
      "Epoch 65/100\n",
      "50000/50000 [==============================] - 5s 98us/step - loss: 0.4775 - acc: 0.8278 - val_loss: 2.1446 - val_acc: 0.5176\n",
      "Epoch 66/100\n",
      "50000/50000 [==============================] - 5s 95us/step - loss: 0.4545 - acc: 0.8362 - val_loss: 2.2156 - val_acc: 0.5111\n",
      "Epoch 67/100\n",
      "50000/50000 [==============================] - 5s 98us/step - loss: 0.4593 - acc: 0.8328 - val_loss: 2.2036 - val_acc: 0.5102\n",
      "Epoch 68/100\n",
      "50000/50000 [==============================] - 5s 98us/step - loss: 0.4589 - acc: 0.8358 - val_loss: 2.2103 - val_acc: 0.5129\n",
      "Epoch 69/100\n",
      "50000/50000 [==============================] - 5s 94us/step - loss: 0.4282 - acc: 0.8467 - val_loss: 2.3023 - val_acc: 0.5125\n",
      "Epoch 70/100\n",
      "50000/50000 [==============================] - 5s 94us/step - loss: 0.4504 - acc: 0.8375 - val_loss: 2.2176 - val_acc: 0.5194\n",
      "Epoch 71/100\n",
      "50000/50000 [==============================] - 5s 99us/step - loss: 0.4232 - acc: 0.8484 - val_loss: 2.2829 - val_acc: 0.5147\n",
      "Epoch 72/100\n",
      "50000/50000 [==============================] - 5s 97us/step - loss: 0.4336 - acc: 0.8434 - val_loss: 2.3820 - val_acc: 0.5078\n",
      "Epoch 73/100\n",
      "50000/50000 [==============================] - 5s 100us/step - loss: 0.4267 - acc: 0.8491 - val_loss: 2.3114 - val_acc: 0.5156\n",
      "Epoch 74/100\n",
      "50000/50000 [==============================] - 5s 96us/step - loss: 0.4265 - acc: 0.8464 - val_loss: 2.4126 - val_acc: 0.5091\n",
      "Epoch 75/100\n",
      "50000/50000 [==============================] - 5s 96us/step - loss: 0.3821 - acc: 0.8638 - val_loss: 2.4195 - val_acc: 0.5086\n",
      "Epoch 76/100\n",
      "50000/50000 [==============================] - 5s 94us/step - loss: 0.3824 - acc: 0.8617 - val_loss: 2.4324 - val_acc: 0.5127\n",
      "Epoch 77/100\n",
      "50000/50000 [==============================] - 5s 97us/step - loss: 0.3802 - acc: 0.8633 - val_loss: 2.4453 - val_acc: 0.5069\n",
      "Epoch 78/100\n",
      "50000/50000 [==============================] - 5s 99us/step - loss: 0.3717 - acc: 0.8677 - val_loss: 2.5855 - val_acc: 0.5083\n",
      "Epoch 79/100\n",
      "50000/50000 [==============================] - 5s 96us/step - loss: 0.3826 - acc: 0.8607 - val_loss: 2.5080 - val_acc: 0.5053\n",
      "Epoch 80/100\n",
      "50000/50000 [==============================] - 5s 97us/step - loss: 0.3644 - acc: 0.8694 - val_loss: 2.5432 - val_acc: 0.5084\n",
      "Epoch 81/100\n",
      "50000/50000 [==============================] - 5s 97us/step - loss: 0.3660 - acc: 0.8691 - val_loss: 2.6191 - val_acc: 0.5007\n",
      "Epoch 82/100\n",
      "50000/50000 [==============================] - 5s 98us/step - loss: 0.3445 - acc: 0.8772 - val_loss: 2.6708 - val_acc: 0.5124\n",
      "Epoch 83/100\n",
      "50000/50000 [==============================] - 5s 98us/step - loss: 0.3519 - acc: 0.8725 - val_loss: 2.6534 - val_acc: 0.5002\n",
      "Epoch 84/100\n",
      "50000/50000 [==============================] - 5s 96us/step - loss: 0.3531 - acc: 0.8729 - val_loss: 2.6571 - val_acc: 0.5080\n",
      "Epoch 85/100\n",
      "50000/50000 [==============================] - 5s 95us/step - loss: 0.3236 - acc: 0.8844 - val_loss: 2.6732 - val_acc: 0.5145\n",
      "Epoch 86/100\n",
      "50000/50000 [==============================] - 5s 96us/step - loss: 0.3138 - acc: 0.8868 - val_loss: 2.7655 - val_acc: 0.5075\n",
      "Epoch 87/100\n",
      "50000/50000 [==============================] - 5s 94us/step - loss: 0.3387 - acc: 0.8776 - val_loss: 2.7686 - val_acc: 0.5045\n",
      "Epoch 88/100\n",
      "50000/50000 [==============================] - 5s 97us/step - loss: 0.3154 - acc: 0.8867 - val_loss: 2.8571 - val_acc: 0.4956\n",
      "Epoch 89/100\n",
      "50000/50000 [==============================] - 5s 95us/step - loss: 0.3231 - acc: 0.8837 - val_loss: 2.7459 - val_acc: 0.5007\n",
      "Epoch 90/100\n",
      "50000/50000 [==============================] - 5s 96us/step - loss: 0.3325 - acc: 0.8802 - val_loss: 2.8344 - val_acc: 0.5076\n",
      "Epoch 91/100\n",
      "50000/50000 [==============================] - 5s 102us/step - loss: 0.3098 - acc: 0.8869 - val_loss: 2.7940 - val_acc: 0.5114\n",
      "Epoch 92/100\n",
      "50000/50000 [==============================] - 5s 99us/step - loss: 0.2816 - acc: 0.8988 - val_loss: 2.9217 - val_acc: 0.4970\n",
      "Epoch 93/100\n",
      "50000/50000 [==============================] - 5s 97us/step - loss: 0.3258 - acc: 0.8821 - val_loss: 2.9397 - val_acc: 0.5025\n",
      "Epoch 94/100\n",
      "50000/50000 [==============================] - 5s 95us/step - loss: 0.2916 - acc: 0.8954 - val_loss: 2.8959 - val_acc: 0.4966\n",
      "Epoch 95/100\n",
      "50000/50000 [==============================] - 5s 95us/step - loss: 0.3172 - acc: 0.8856 - val_loss: 2.9555 - val_acc: 0.5042\n",
      "Epoch 96/100\n",
      "50000/50000 [==============================] - 5s 95us/step - loss: 0.2817 - acc: 0.8992 - val_loss: 2.9747 - val_acc: 0.4996\n",
      "Epoch 97/100\n",
      "50000/50000 [==============================] - 5s 99us/step - loss: 0.2753 - acc: 0.9014 - val_loss: 2.9252 - val_acc: 0.5081\n",
      "Epoch 98/100\n",
      "50000/50000 [==============================] - 5s 97us/step - loss: 0.3114 - acc: 0.8879 - val_loss: 3.0232 - val_acc: 0.5000\n",
      "Epoch 99/100\n",
      "50000/50000 [==============================] - 5s 100us/step - loss: 0.2915 - acc: 0.8958 - val_loss: 3.0625 - val_acc: 0.5000\n",
      "Epoch 100/100\n",
      "50000/50000 [==============================] - 5s 97us/step - loss: 0.2860 - acc: 0.8965 - val_loss: 3.1013 - val_acc: 0.5026\n"
     ]
    },
    {
     "data": {
      "text/plain": [
       "<keras.callbacks.History at 0x7f4273de3ad0>"
      ]
     },
     "execution_count": 9,
     "metadata": {},
     "output_type": "execute_result"
    }
   ],
   "source": [
    "model.fit(x_train, y_train, \n",
    "          epochs=EPOCHS, \n",
    "          batch_size=BATCH_SIZE, \n",
    "          validation_data=(x_test, y_test), \n",
    "          shuffle=True)"
   ]
  },
  {
   "cell_type": "code",
   "execution_count": 11,
   "metadata": {},
   "outputs": [
    {
     "data": {
      "image/png": "[encoded data removed]",
      "text/plain": [
       "<Figure size 432x288 with 1 Axes>"
      ]
     },
     "metadata": {
      "needs_background": "light"
     },
     "output_type": "display_data"
    },
    {
     "data": {
      "image/png": "[encoded data removed]",
      "text/plain": [
       "<Figure size 432x288 with 1 Axes>"
      ]
     },
     "metadata": {
      "needs_background": "light"
     },
     "output_type": "display_data"
    }
   ],
   "source": [
    "import matplotlib.pyplot as plt\n",
    "\n",
    "\n",
    "train_loss = model.history.history[\"loss\"]\n",
    "valid_loss = model.history.history[\"val_loss\"]\n",
    "\n",
    "train_acc = model.history.history[\"acc\"]\n",
    "valid_acc = model.history.history[\"val_acc\"]\n",
    "\n",
    "plt.plot(range(len(train_loss)), train_loss, label=\"train loss\")\n",
    "plt.plot(range(len(valid_loss)), valid_loss, label=\"valid loss\")\n",
    "plt.legend()\n",
    "plt.title(\"Loss\")\n",
    "plt.show()\n",
    "\n",
    "plt.plot(range(len(train_acc)), train_acc, label=\"train accuracy\")\n",
    "plt.plot(range(len(valid_acc)), valid_acc, label=\"valid accuracy\")\n",
    "plt.legend()\n",
    "plt.title(\"Accuracy\")\n",
    "plt.show()"
   ]
  },
  {
   "cell_type": "code",
   "execution_count": null,
   "metadata": {},
   "outputs": [],
   "source": []
  }
 ],
 "metadata": {
  "kernelspec": {
   "display_name": "Python 2",
   "language": "python",
   "name": "python2"
  },
  "language_info": {
   "codemirror_mode": {
    "name": "ipython",
    "version": 2
   },
   "file_extension": ".py",
   "mimetype": "text/x-python",
   "name": "python",
   "nbconvert_exporter": "python",
   "pygments_lexer": "ipython2",
   "version": "2.7.12"
  }
 },
 "nbformat": 4,
 "nbformat_minor": 2
}
